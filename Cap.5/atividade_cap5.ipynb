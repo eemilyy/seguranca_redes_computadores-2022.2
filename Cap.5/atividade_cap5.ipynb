{
 "cells": [
  {
   "cell_type": "markdown",
   "metadata": {
    "collapsed": false
   },
   "source": [
    "1. <span style='font-size:medium'>**Qual foi o conjunto original de critérios usados pelo NIST para avaliar as cifras AES candidatas?**</span>\n",
    "   1. <span style='font-size:medium'>Segurança: A cifra deveria resistir a ataques criptográficos conhecidos, como ataques de força bruta, ataques diferenciais e criptoanálise linear. Além disso, ela também deveria ser resistente a ataques futuros, na medida do possível.</span>\n",
    "   2. <span style='font-size:medium'>Eficiência computacional: A cifra deveria ser eficiente em termos de recursos computacionais necessários para criptografar e descriptografar dados. Isso inclui o tempo de execução e a utilização de memória</span>\n",
    "   3. <span style='font-size:medium'>Implementação: A cifra deveria ser adequada para implementação em uma ampla gama de dispositivos, desde sistemas de computadores de alto desempenho até dispositivos com recursos limitados, como smart cards e sensores.</span>\n",
    "   4. <span style='font-size:medium'>Flexibilidade: A cifra deveria ser flexível o suficiente para suportar uma variedade de tamanhos de bloco, tamanhos de chave e modos de operação</span>\n",
    "   5. <span style='font-size:medium'>Simplicidade: A cifra deveria ser simples o suficiente para ser analisada de forma abrangente por especialistas em criptografia. A simplicidade promove a confiança na segurança da cifra.</span>\n",
    "   6. <span style='font-size:medium'>Tamanho da chave: A cifra deveria suportar tamanhos de chave adequados para diferentes níveis de segurança, com um foco especial em tamanhos de chave de 128, 192 e 256 bits.</span>\n",
    "\n"
   ]
  },
  {
   "cell_type": "markdown",
   "metadata": {
    "collapsed": false
   },
   "source": [
    "2. <span style='font-size:medium'>**Qual foi o conjunto final de critérios usados pelo NIST para avaliar as cifras AES candidatas?**</span>\n",
    "   1. <span style='font-size:medium'>Segurança: As cifras candidatas devem resistir a ataques conhecidos e não devem ter vulnerabilidades significativas. Elas devem garantir um alto nível de segurança, mesmo quando submetidas a ataques criptográficos avançados.</span>\n",
    "   2. <span style='font-size:medium'>Eficiência: As cifras devem ser eficientes em termos de tempo de execução e uso de recursos computacionais. Elas devem permitir uma implementação rápida e eficiente em uma variedade de plataformas, incluindo dispositivos com recursos limitados.</span>\n",
    "   3. <span style='font-size:medium'>Simplicidade: As cifras devem ter um design claro e compreensível. A simplicidade facilita a análise da segurança e aumenta a confiança na resistência da cifra a ataques.</span>\n",
    "   4. <span style='font-size:medium'>Flexibilidade: As cifras devem ser flexíveis o suficiente para acomodar diferentes tamanhos de chave e blocos. Isso permite o uso da cifra em uma variedade de aplicativos e ambientes.</span>\n",
    "   5. <span style='font-size:medium'>Maturidade: As cifras candidatas devem ser suficientemente estudadas e analisadas por especialistas em criptografia. A comunidade criptográfica deve ter confiança na segurança e eficácia das cifras propostas.</span>\n",
    "   6. <span style='font-size:medium'>Implementação e uso prático: As cifras devem ser viáveis em termos de implementação prática e facilidade de uso em diferentes contextos. Isso inclui considerações como velocidade de criptografia/descriptografia, resistência a ataques laterais \\(side\\-channel attacks\\) e conformidade com padrões e regulamentações criptográficas.</span>\n",
    "\n"
   ]
  },
  {
   "cell_type": "markdown",
   "metadata": {
    "collapsed": false
   },
   "source": [
    "<span style='font-size:medium'>**3\\)Qual é a diferença entre Rijndael e AES?**</span><span style='font-size:medium'>  </span>\n",
    "\n",
    "<span style='font-size:medium'>O AES é uma variante do Rijndael que o adota como seu algoritmo de criptografia, diferentemente do Rjindael, utiliza um  bloco fixo de  tamanho de 128 bits e uma chave de tamanho 128,  192 ou 256 bits. Em contraste, </span>\n",
    "\n",
    "<span style='font-size:medium'>Rijndael “per se” é especificado com tamanhos de bloco e chave que podem ser qualquer múltiplo de 32 bits, com um mínimo de 128 e um máximo de 256 bits. o AES se tornou o padrão de criptografia amplamente </span>\n",
    "\n",
    "<span style='font-size:medium'>utilizado, baseado no algoritmo Rijndael.</span>\n",
    "\n"
   ]
  },
  {
   "cell_type": "markdown",
   "metadata": {
    "collapsed": false
   },
   "source": [
    "4. <span style='font-size:medium'>**Responda:**</span>\n",
    "\n",
    "<span style='font-size:medium'>**a\\) Qual é a finalidade do array Estado?**</span>\n",
    "\n",
    "<span style='font-size:medium'>Receber a cópia da matriz quadrada de bytes 4 x 4 de entrada dos algoritmos. Esse array é modificado a cada etapa de encriptação e decriptação. </span>\n",
    "\n",
    "<span style='font-size:medium'>**b\\) Como é construída a S\\-box?**</span>\n",
    "\n",
    "<span style='font-size:medium'>A S\\-box é construída da seguinte forma:</span>\n",
    "\n",
    "<span style='font-size:medium'>i. Inicia\\-se com valores em byte em sequência crescente linha por linha. A primeira linha contém {00}, {01}, …, {0F}; A segunda linha contém {10}, {11} e assim por diante, desse modo, o valor do byte na linha y, coluna x é {yx}.</span>\n",
    "\n",
    "<span style='font-size:medium'>ii. Mapeie cada byte com seu inverso multiplicativo no corpo finito GF\\(28\\); o valor {00} é mapeado consigo mesmo</span>\n",
    "\n",
    "<span style='font-size:medium'>iii. Considere que cada byte consiste em 8 bits rotulados \\(b7,b6,b5,b4,b3,b2,b1,b0\\). aplique a seguinte transformação a cada bit de cada byte na S\\-box:</span>\n",
    "\n",
    "<span style='font-size:medium'>**c\\) Como é construída a S\\-box?**</span>\n",
    "\n",
    "<span style='font-size:medium'>A S\\-box é construída da seguinte forma:</span>\n",
    "\n",
    "<span style='font-size:medium'>i. Inicia\\-se com valores em byte em sequência crescente linha por linha. A primeira linha contém {00}, {01}, …, {0F}\t; A segunda linha contém {10}, {11} e assim por diante, desse modo, o valor do byte na linha y, coluna x é {yx}.</span>\n",
    "\n",
    "<span style='font-size:medium'>ii. Mapeie cada byte com seu inverso multiplicativo no corpo finito GF\\(28\\); o valor {00} é mapeado consigo mesmo</span>\n",
    "\n",
    "<span style='font-size:medium'>iii. Considere que cada byte consiste em 8 bits rotulados \\(b7,b6,b5,b4,b3,b2,b1,b0\\). aplique a seguinte transformação a cada bit de cada byte na S\\-box:</span>\n",
    "\n",
    "<span style='font-size:medium'>Descreva rapidamente o estágio SubBytes, ShiftRows, MixColumns, AddRoundKey, e o algoritmo de expansão de chave.</span>\n",
    "\n",
    "<span style='font-size:medium'>**SubBytes**</span><span style='font-size:medium'>: Nesta etapa, cada byte do estado de dados é substituído por outro byte correspondente em uma S\\-Box \\(caixa de substituição\\), que é uma tabela não linear pré\\-definida. Essa substituição não linear ajuda a difundir os bits dos dados, aumentando a resistência a ataques.</span>\n",
    "\n",
    "<span style='font-size:medium'>**ShiftRows**</span><span style='font-size:medium'>: Nesta etapa, as linhas do estado de dados são deslocadas ciclicamente. A primeira linha permanece inalterada, a segunda linha é deslocada uma posição para a esquerda, a terceira linha é deslocada duas posições para a esquerda, e a quarta linha é deslocada três posições para a esquerda. Esse deslocamento ajuda a espalhar os bytes através das colunas, tornando o algoritmo mais resistente a ataques.</span>\n",
    "\n",
    "<span style='font-size:medium'>**MixColumns**</span><span style='font-size:medium'>: Nesta etapa, as colunas do estado de dados são misturadas por meio de operações de multiplicação e soma no corpo finito de Galois \\(GF\\(2^8\\)\\). Essa operação combina os bytes dentro de cada coluna para aumentar a difusão dos dados e a confusão da criptografia.</span>\n",
    "\n",
    "<span style='font-size:medium'>**AddRoundKey:**</span><span style='font-size:medium'> Nesta etapa, a chave de rodada é combinada com o estado de dados por meio de uma operação de XOR \\(ou exclusivo\\). Cada byte do estado de dados é combinado com o byte correspondente da chave de rodada. Essa operação garante que a chave de criptografia seja incorporada no estado de dados durante cada rodada.</span>\n",
    "\n",
    "<span style='font-size:medium'>**Algoritmo de expansão de chave:**</span><span style='font-size:medium'> Utiliza como entrada uma chave de 4 words \\(16 bytes\\) e produz um array linear de 44 words \\(176 bytes\\). Isso é suficiente para oferecer uma chave de rodada de 4 words para o estágio AddRoundKey inicial, e para cada uma das 10 rodadas da cifra. A chave é copiada para as 4 primeiras words e o restante é preenchido com 4 words de cada vez. Cada word incluída w\\[i\\] depende da anterior, w\\[\\-1\\] e da w\\[4\\-1\\]. Em 3 dentre 4 casos, é usado XOR. </span>\n",
    "\n"
   ]
  },
  {
   "cell_type": "markdown",
   "metadata": {
    "collapsed": false
   },
   "source": [
    "5. **Quantos bytes no Estado são afetados por ShiftRows?**\n",
    "   A primeira linha do estado não é alterada, a segunda linha é realizado um deslocamento linear a esquerda de 1 byte, a terceira linha um deslocamento circular a esquerda de 2 bytes e a quarta linha um deslocamento circular a esquerda de 4 bytes\n",
    "\n",
    "<img src=\"C:\\Users\\PROFESSOR\\Pictures\\imagem.png\"   width=\"NaNpx\"  height=\"NaNpx\"  style=\"object-fit:cover\"/>        ![](https://images.app.goo.gl/5JTJYkuuzuKm2j4XA)           \n",
    "\n",
    "![](https://www.researchgate.net/profile/Purvi-Tandel/publication/304141002/figure/fig6/AS:668587350044672@1536415054000/Shift-row-transformation2.ppm)\n",
    "\n",
    "imagem \\[\\[[https://www.researchgate.net/profile/Purvi\\-Tandel/publication/304141002/figure/fig6/AS:668587350044672@1536415054000/Shift\\-row\\-transformation2.ppm](https://www.researchgate.net/profile/Purvi-Tandel/publication/304141002/figure/fig6/AS:668587350044672@1536415054000/Shift-row-transformation2.ppm) \\]\\(https://images.app.goo.gl/5JTJYkuuzuKm2j4XA\\) \\]\n",
    "\n"
   ]
  },
  {
   "cell_type": "markdown",
   "metadata": {
    "collapsed": false
   },
   "source": [
    "6. <span style='font-size:medium'>Use a chave 1010 0111 0011 1011 para encriptar o texto claro \"ok\" conforme expresso em ASCII, ou seja, 0110 1111 0110 1011. Os projetistas do S\\-AES obtiveram o texto cifrado 0000 0111 0011 1000. E você?</span>\n",
    "\n"
   ]
  },
  {
   "cell_type": "markdown",
   "metadata": {
    "collapsed": false
   },
   "source": [
    "The following cell was generated by ChatGPT using the prompt:\n",
    "\n",
    "> Use a chave 1010 0111 0011 1011 para encriptar o texto claro \"ok\" conforme expresso em ASCII, ou seja, 0110 1111 0110 1011. Os projetistas do S-AES obtiveram o texto cifrado 0000 0111 0011 1000. E você?\n",
    "\n"
   ]
  },
  {
   "cell_type": "code",
   "execution_count": 1,
   "metadata": {
    "collapsed": false
   },
   "outputs": [
    {
     "name": "stdout",
     "output_type": "stream",
     "text": [
      "11000011\n"
     ]
    }
   ],
   "source": [
    "# Define a função para encriptar o texto claro usando a chave\n",
    "def encriptar(chave, texto_claro):\n",
    "    # Converter o texto claro para binário\n",
    "    texto_binario = bin(texto_claro)[2:].zfill(16)\n",
    "    \n",
    "    # Verificar se o texto binário tem o tamanho correto\n",
    "    if len(texto_binario) != 16:\n",
    "        raise ValueError(\"O texto claro deve ter 16 bits\")\n",
    "    \n",
    "    # Converter a chave para binário\n",
    "    chave_binario = bin(chave)[2:].zfill(16)\n",
    "    \n",
    "    # Realizar a permutação inicial\n",
    "    p1 = [2, 6, 3, 1, 4, 8, 5, 7]\n",
    "    texto_p1 = ''.join(texto_binario[i-1] for i in p1)\n",
    "    \n",
    "    # Aplicar a operação XOR entre o texto e a chave\n",
    "    texto_xor = bin(int(texto_p1, 2) ^ int(chave_binario, 2))[2:].zfill(8)\n",
    "    \n",
    "    # Realizar a permutação final\n",
    "    p2 = [4, 1, 3, 5, 7, 2, 8, 6]\n",
    "    texto_cifrado = ''.join(texto_xor[i-1] for i in p2)\n",
    "    \n",
    "    return texto_cifrado\n",
    "\n",
    "# Utilizar a chave e o texto fornecidos para obter o texto cifrado\n",
    "chave = 0b1010011100111011\n",
    "texto_claro = 0b110111101101011\n",
    "\n",
    "\n",
    "texto_cifrado_esperado = \"0000011100111000\"\n",
    "texto_cifrado_obtido = encriptar(chave, texto_claro)\n",
    "\n",
    "# Verificar se o texto cifrado obtido coincide com o texto cifrado esperado\n",
    "texto_cifrado_esperado == texto_cifrado_obtido\n",
    "print(texto_cifrado_obtido)"
   ]
  },
  {
   "cell_type": "markdown",
   "metadata": {
    "collapsed": false
   },
   "source": [
    "7. Compare AES com DES. Para cada um dos seguintes elementos do DES, indique o elemento comparável no AES ou explique por que ele não é necessário no AES.\n",
    "   - **XOR do material da subchave com a entrada da função f:**\n",
    "   AES: No AES, o processo de chave de expansão gera as subchaves necessárias para cada rodada do algoritmo. As subchaves são geradas a partir da chave mestra usando um algoritmo específico. Não há necessidade de realizar um XOR separado entre o material da subchave e a entrada da função de mistura \\(chamada SubBytes no AES\\). O próprio processo de expansão da chave já incorpora a subchave em cada rodada.\n",
    "   - **XOR da saída da função f com a metade esquerda do bloco:**\n",
    "   AES: No AES, o processo de mistura das colunas \\(chamado MixColumns\\) é aplicado à matriz de estado em cada rodada. Essa operação não é realizada em uma metade específica do bloco, mas sim em todo o bloco de 128 bits. Portanto, não há necessidade de realizar um XOR separado da saída da função de mistura com uma metade específica do bloco.\n",
    "   - **Função f:**\n",
    "   AES: A função f no DES é composta por várias etapas, incluindo expansão, substituição e permutação. No AES, a função análoga é chamada de SubBytes, que realiza uma substituição não linear de cada byte do estado usando uma tabela de substituição específica \\(S\\-Box\\). Além disso, o AES também inclui etapas como ShiftRows e MixColumns para aumentar a difusão dos dados. Em geral, a função f no AES é mais complexa e abrangente do que no DES.\n",
    "   - **Permutação P:**\n",
    "   AES: No DES, a permutação P é uma operação que rearranja os bits de saída da função f. No AES, uma operação semelhante é realizada como parte da etapa ShiftRows, que rearranja os bytes do estado. No entanto, a permutação P do DES não é diretamente comparável ao AES, pois os algoritmos possuem estruturas diferentes.\n",
    "   - **Troca de metades do bloco:**\n",
    "   AES: No DES, uma etapa conhecida como troca de metades do bloco é realizada, onde as metades esquerda e direita do bloco são trocadas antes de cada rodada. No AES, não há uma etapa correspondente à troca de metades do bloco. O algoritmo AES trata todo o bloco de 128 bits como uma única entidade e não há necessidade de trocar metades do bloco durante a criptografia.\n",
    "\n"
   ]
  },
  {
   "cell_type": "code",
   "execution_count": 0,
   "metadata": {
    "collapsed": false
   },
   "outputs": [
   ],
   "source": [
   ]
  }
 ],
 "metadata": {
  "kernelspec": {
   "argv": [
    "sage-10.0",
    "--python",
    "-m",
    "sage.repl.ipython_kernel",
    "--matplotlib=inline",
    "-f",
    "{connection_file}"
   ],
   "display_name": "SageMath 10.0",
   "env": {
   },
   "language": "sagemath",
   "metadata": {
    "cocalc": {
     "description": "Open-source mathematical software system",
     "priority": 10,
     "url": "https://www.sagemath.org/"
    }
   },
   "name": "sage-10.0",
   "resource_dir": "/ext/jupyter/kernels/sage-10.0"
  },
  "language_info": {
   "codemirror_mode": {
    "name": "ipython",
    "version": 3
   },
   "file_extension": ".py",
   "mimetype": "text/x-python",
   "name": "python",
   "nbconvert_exporter": "python",
   "pygments_lexer": "ipython3",
   "version": "3.11.1"
  }
 },
 "nbformat": 4,
 "nbformat_minor": 4
}