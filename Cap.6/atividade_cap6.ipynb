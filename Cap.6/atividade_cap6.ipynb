{
 "cells": [
  {
   "cell_type": "markdown",
   "metadata": {
    "collapsed": false
   },
   "source": [
    "# Atividade 6 \\- capitulo 6\n",
    "\n"
   ]
  },
  {
   "cell_type": "markdown",
   "metadata": {
    "collapsed": false
   },
   "source": [
    "**1. O que é encriptação tripla?**\n",
    "\n",
    "A encriptação tripla, também conhecida como Triple DES \\(3DES\\), é um algoritmo de criptografia que é usado para proteger informações sensíveis. Ele utiliza três passos consecutivos do algoritmo DES para encriptar os dados. Basicamente, o algoritmo aplica o DES três vezes em sequência, usando duas ou três chaves diferentes. As chaves geralmente são de 56 bits cada, mas no total, a combinação de três chaves resulta em uma chave efetiva de 168 bits.\n",
    "\n",
    "A aplicação do 3DES oferece uma camada extra de segurança em relação ao DES original, tornando\\-o mais resistente a ataques. No entanto, devido à sua complexidade e ao aumento do poder computacional atual, o 3DES tem sido gradualmente substituído por algoritmos mais avançados, como o AES \\(Advanced Encryption Standard\\). O AES é considerado mais seguro e eficiente em comparação ao 3DES.\n",
    "\n",
    "**2. O que é ataque meet\\-in\\-the\\-middle?**\n",
    "\n",
    "O ataque meet\\-in\\-the\\-middle \\(encontro no meio\\) é um tipo de ataque criptográfico que visa quebrar uma criptografia que utiliza duas etapas de encriptação diferentes. O princípio básico do ataque meet\\-in\\-the\\-middle é aproveitar a propriedade das funções de encriptação e desencriptação reversíveis. Ele explora a ideia de que a criptografia em duas etapas pode ser revertida para encontrar as chaves secretas envolvidas no processo.\n",
    "\n",
    "**3. Quantas chaves são usadas na encriptação tripla?**\n",
    "\n",
    "São utilizadas 3 chaves . A encriptação tripla é uma técnica de criptografia que consiste em aplicar três etapas de encriptação consecutivas para aumentar a segurança dos dados. Cada etapa utiliza uma chave diferente para realizar a encriptação. Portanto, são necessárias três chaves distintas para executar o processo de encriptação tripla. Esse tipo de encriptação representa uma contramedida para o ataque meet\\-in\\-the\\-middle.Porém, como alternativa, Tuchman propôs um método de encriptação triplo que utiliza apenas duas chaves, tornando o processo mais eficiente em termos de complexidade e gerenciamento de chaves.\n",
    "\n",
    "**4. Por que a parte do meio do 3DES é decriptação, em vez de encriptação?**\n",
    "\n",
    "Esse processo de decriptação foi criado para permitir a compatibilidade com o algoritmo DES original\\(criado como um algoritmo de  encriptação simétrica de 64 bits que recebe uma chave de 56 bits\\).Com o avanço da tecnologia, a segurança do DES começou a ser questionada devido ao tamanho relativamente curto da chave, assim,Para fortalecer a segurança dessa encriptação, foi desenvolvida uma estrategia de encriptação\\-decriptação\\-encriptação é conhecida como EDE \\(Encrypt\\-Decrypt\\-Encrypt\\).\n",
    "\n",
    "**5. Por que alguns modos de operação de cifra de bloco só utilizam a encriptação, enquanto outros**\n",
    "\n",
    "**empregam encriptação e decriptação?**\n",
    "\n",
    "Umas cifras de bloco pode estender a aplicação de algoritmos de criptografia de bloco, como o AES ou o DES, a dados maiores que o tamanho de bloco padrão. Essas operações determinam como os blocos de dados são processados e combinados para formar o resultado final da criptografia. Alguns modos de operação, como o ECB \\(Electronic Codebook\\), empregam exclusivamente a encriptação para cifrar os blocos de dados individualmente, sem qualquer interdependência entre eles. Nesse modo, cada bloco é tratado de maneira isolada, o que implica que blocos idênticos na entrada resultarão em blocos idênticos na saída. Essa abordagem pode apresentar vulnerabilidades de segurança, uma vez que padrões e informações sobre os dados originais podem ser revelados, comprometendo a confidencialidade dos dados.\n",
    "\n",
    "**6. Você deseja construir um dispositivo de hardware para realizar encriptação de bloco no modo**\n",
    "\n",
    "**cipher block chaining \\(CBC\\) usando um algoritmo mais forte do que DES. 3DES é um bom**\n",
    "\n",
    "**candidato. A Figura 1 mostra duas possibilidades, ambas acompanhando a definição do CBC.**\n",
    "\n",
    "**Qual das duas você escolheria:**\n",
    "\n",
    "**\\(a\\) Por segurança?\\(figura 2\\)**\n",
    "\n",
    "Com o objetivo de algo mais seguro, precisamos de um algoritmo mais forte, a opção mais segura seria o 3\\-key 3DES.\\(Triple DES\\) é uma versão aprimorada do DES, que aplica três vezes o algoritmo DES usando três chaves diferentes.Essa abordagem aumenta a resistência do algoritmo contra ataques.\n",
    "\n",
    "**\\(b\\) Por desempenho?\\(figura 1\\)**\n",
    "\n",
    "Como o foco é desempenho, precisamos de um algortimo eficiente em foco em processamento, a opção mais adequada seria o 2\\-key 3DES, que  utiliza duas chaves diferentes em vez de três, o que reduz a quantidade de processamento necessário em comparação com o 3\\-key 3DES, entratanto, possui menor segurança em comparação com o 3DES.\n",
    "\n"
   ]
  },
  {
   "cell_type": "code",
   "execution_count": 5,
   "metadata": {
    "collapsed": false
   },
   "outputs": [
    {
     "ename": "ValueError",
     "evalue": "Plaintext and iv have different lengths.",
     "output_type": "error",
     "traceback": [
      "\u001b[0;31m---------------------------------------------------------------------------\u001b[0m",
      "\u001b[0;31mValueError\u001b[0m                                Traceback (most recent call last)",
      "Cell \u001b[0;32mIn [5], line 46\u001b[0m\n\u001b[1;32m     43\u001b[0m iv \u001b[38;5;241m=\u001b[39m \u001b[38;5;124m'\u001b[39m\u001b[38;5;124m000000010101010\u001b[39m\u001b[38;5;124m'\u001b[39m\n\u001b[1;32m     45\u001b[0m \u001b[38;5;66;03m# Encriptação\u001b[39;00m\n\u001b[0;32m---> 46\u001b[0m ciphertext \u001b[38;5;241m=\u001b[39m \u001b[43msdes_encrypt\u001b[49m\u001b[43m(\u001b[49m\u001b[43mplaintext\u001b[49m\u001b[43m,\u001b[49m\u001b[43m \u001b[49m\u001b[43mkey\u001b[49m\u001b[43m,\u001b[49m\u001b[43m \u001b[49m\u001b[43miv\u001b[49m\u001b[43m)\u001b[49m\n\u001b[1;32m     47\u001b[0m \u001b[38;5;28mprint\u001b[39m(\u001b[38;5;124m\"\u001b[39m\u001b[38;5;124mTexto cifrado:\u001b[39m\u001b[38;5;124m\"\u001b[39m, ciphertext)\n\u001b[1;32m     49\u001b[0m \u001b[38;5;66;03m# Decriptação\u001b[39;00m\n",
      "Cell \u001b[0;32mIn [5], line 8\u001b[0m, in \u001b[0;36msdes_encrypt\u001b[0;34m(plaintext, key, iv)\u001b[0m\n\u001b[1;32m      5\u001b[0m ciphertext \u001b[38;5;241m=\u001b[39m \u001b[38;5;124m'\u001b[39m\u001b[38;5;124m'\u001b[39m\n\u001b[1;32m      7\u001b[0m \u001b[38;5;28;01mif\u001b[39;00m \u001b[38;5;28mlen\u001b[39m(plaintext) \u001b[38;5;241m!=\u001b[39m \u001b[38;5;28mlen\u001b[39m(iv):\n\u001b[0;32m----> 8\u001b[0m     \u001b[38;5;28;01mraise\u001b[39;00m \u001b[38;5;167;01mValueError\u001b[39;00m(\u001b[38;5;124m\"\u001b[39m\u001b[38;5;124mPlaintext and iv have different lengths.\u001b[39m\u001b[38;5;124m\"\u001b[39m)\n\u001b[1;32m      9\u001b[0m \u001b[38;5;28;01mfor\u001b[39;00m i \u001b[38;5;129;01min\u001b[39;00m \u001b[38;5;28mrange\u001b[39m(\u001b[38;5;28mlen\u001b[39m(plaintext)):\n\u001b[1;32m     10\u001b[0m     \u001b[38;5;66;03m# Realizar a operação XOR entre o texto claro e o vetor de inicialização\u001b[39;00m\n\u001b[1;32m     11\u001b[0m     xor_result \u001b[38;5;241m=\u001b[39m \u001b[38;5;28mint\u001b[39m(plaintext[i]) \u001b[38;5;241m*\u001b[39m\u001b[38;5;241m*\u001b[39m \u001b[38;5;28mint\u001b[39m(iv[i])\n",
      "\u001b[0;31mValueError\u001b[0m: Plaintext and iv have different lengths."
     ]
    }
   ],
   "source": [
    "# questão 7\n",
    "\n",
    "# Função para realizar a encriptação S-DES\n",
    "def sdes_encrypt(plaintext, key, iv):\n",
    "    ciphertext = ''\n",
    "    \n",
    "    if len(plaintext) != len(iv):\n",
    "        raise ValueError(\"Plaintext and iv have different lengths.\")\n",
    "    for i in range(len(plaintext)):\n",
    "        # Realizar a operação XOR entre o texto claro e o vetor de inicialização\n",
    "        xor_result = int(plaintext[i]) ^ int(iv[i])\n",
    "        # Realizar a encriptação S-DES\n",
    "        encrypted = sdes(xor_result, key)\n",
    "        # Adicionar o resultado encriptado ao texto cifrado\n",
    "        ciphertext += str(encrypted)\n",
    "        # Atualizar o vetor de inicialização para o próximo bloco\n",
    "        iv = ciphertext[-8:]\n",
    "    return ciphertext\n",
    "\n",
    "# Função para realizar a decriptação S-DES\n",
    "def sdes_decrypt(ciphertext, key, iv):\n",
    "    plaintext = ''\n",
    "    for i in range(len(ciphertext)):\n",
    "        # Realizar a decriptação S-DES\n",
    "        decrypted = sdes(int(ciphertext[i]), key)\n",
    "        # Realizar a operação XOR entre o resultado decriptado e o vetor de inicialização\n",
    "        xor_result = decrypted ^ int(iv[i])\n",
    "        # Adicionar o resultado ao texto claro decriptado\n",
    "        plaintext += str(xor_result)\n",
    "        # Atualizar o vetor de inicialização para o próximo bloco\n",
    "        iv = ciphertext[i]\n",
    "    return plaintext\n",
    "\n",
    "# Função auxiliar para realizar a encriptação ou decriptação S-DES\n",
    "def sdes(data, key):\n",
    "    # Implemente o algoritmo S-DES aqui\n",
    "    # ...\n",
    "    return data\n",
    "\n",
    "# Teste dos dados fornecidos\n",
    "plaintext = '0000000100100011'\n",
    "key = '0111111101'\n",
    "iv = '000000010101010'\n",
    "\n",
    "# Encriptação\n",
    "ciphertext = sdes_encrypt(plaintext, key, iv)\n",
    "print(\"Texto cifrado:\", ciphertext)\n",
    "\n",
    "# Decriptação\n",
    "decrypted = sdes_decrypt(ciphertext, key, iv)\n",
    "print(\"Texto claro decriptado:\", decrypted)\n"
   ]
  },
  {
   "cell_type": "code",
   "execution_count": 0,
   "metadata": {
    "collapsed": false
   },
   "outputs": [
   ],
   "source": [
   ]
  },
  {
   "cell_type": "markdown",
   "metadata": {
    "collapsed": false
   },
   "source": [
    "The following cell was generated by ChatGPT using the prompt:\n",
    "\n",
    "> 7. Crie um software que possa encriptar e decriptar no modo cipher block chaining usando uma das seguintes cifras: módulo affine 256, módulo Hill 256, S-DES, DES. Teste os dados para S-DES usando um vetor de inicialização binário de 1010 1010. Um texto claro binário de 0000 0001 0010 0011 encriptado com uma chave binária de 01111 11101 deverá dar um texto claro binário de 1111 0100 0000 1011. A decriptação deverá funcionar de modo correspondente.\n",
    "\n"
   ]
  },
  {
   "cell_type": "code",
   "execution_count": 1,
   "metadata": {
    "collapsed": false
   },
   "outputs": [
    {
     "ename": "NameError",
     "evalue": "name 'SimplifiedDES' is not defined",
     "output_type": "error",
     "traceback": [
      "\u001b[0;31m---------------------------------------------------------------------------\u001b[0m",
      "\u001b[0;31mNameError\u001b[0m                                 Traceback (most recent call last)",
      "Cell \u001b[0;32mIn [1], line 7\u001b[0m\n\u001b[1;32m      4\u001b[0m init_vector \u001b[38;5;241m=\u001b[39m [Integer(\u001b[38;5;241m1\u001b[39m), Integer(\u001b[38;5;241m0\u001b[39m), Integer(\u001b[38;5;241m1\u001b[39m), Integer(\u001b[38;5;241m0\u001b[39m), Integer(\u001b[38;5;241m1\u001b[39m), Integer(\u001b[38;5;241m0\u001b[39m), Integer(\u001b[38;5;241m1\u001b[39m), Integer(\u001b[38;5;241m0\u001b[39m)]\n\u001b[1;32m      6\u001b[0m \u001b[38;5;66;03m# Creating the S-DES cipher and CBC mode cipher\u001b[39;00m\n\u001b[0;32m----> 7\u001b[0m s_des \u001b[38;5;241m=\u001b[39m \u001b[43mSimplifiedDES\u001b[49m(key)\n\u001b[1;32m      8\u001b[0m cbc \u001b[38;5;241m=\u001b[39m CBC(s_des)\n\u001b[1;32m     10\u001b[0m \u001b[38;5;66;03m# Encrypting the plaintext using CBC mode\u001b[39;00m\n",
      "\u001b[0;31mNameError\u001b[0m: name 'SimplifiedDES' is not defined"
     ]
    }
   ],
   "source": [
    "\n",
    "\n",
    "# Defining the plaintext, key and initialization vector\n",
    "plaintext = [0, 0, 0, 1, 0, 0, 1, 0, 0, 1, 0, 1, 0, 0, 1, 1]\n",
    "key = [0, 1, 1, 1, 1, 1, 1, 0, 1, 1, 0, 1, 1, 1, 0, 1]\n",
    "init_vector = [1, 0, 1, 0, 1, 0, 1, 0]\n",
    "\n",
    "# Creating the S-DES cipher and CBC mode cipher\n",
    "s_des = SimplifiedDES(key)\n",
    "cbc = CBC(s_des)\n",
    "\n",
    "# Encrypting the plaintext using CBC mode\n",
    "cipher_text = cbc.encrypt(plaintext, iv=init_vector)\n",
    "\n",
    "# Decrypting the cipher text using CBC mode\n",
    "decrypted_text = cbc.decrypt(cipher_text, iv=init_vector)\n",
    "\n",
    "# Printing the results\n",
    "print(\"Plaintext:\", plaintext)\n",
    "print(\"Key:\", key)\n",
    "print(\"Initialization Vector:\", init_vector)\n",
    "print(\"Cipher Text:\", cipher_text)\n",
    "print(\"Decrypted Text:\", decrypted_text)"
   ]
  },
  {
   "cell_type": "code",
   "execution_count": 24,
   "metadata": {
    "collapsed": false
   },
   "outputs": [
    {
     "name": "stdout",
     "output_type": "stream",
     "text": [
      "\u001b[33mWARNING: Skipping sage as it is not installed.\u001b[0m\u001b[33m\r\n",
      "\u001b[0m"
     ]
    },
    {
     "name": "stdout",
     "output_type": "stream",
     "text": [
      "Defaulting to user installation because normal site-packages is not writeable\r\n"
     ]
    },
    {
     "name": "stdout",
     "output_type": "stream",
     "text": [
      "\u001b[33mWARNING: Retrying (Retry(total=4, connect=None, read=None, redirect=None, status=None)) after connection broken by 'ConnectTimeoutError(<pip._vendor.urllib3.connection.HTTPSConnection object at 0x7f15bf0bb850>, 'Connection to pypi.org timed out. (connect timeout=15)')': /simple/sagemath/\u001b[0m\u001b[33m\r\n",
      "\u001b[0m"
     ]
    },
    {
     "name": "stdout",
     "output_type": "stream",
     "text": [
      "\u001b[33mWARNING: Retrying (Retry(total=3, connect=None, read=None, redirect=None, status=None)) after connection broken by 'ConnectTimeoutError(<pip._vendor.urllib3.connection.HTTPSConnection object at 0x7f15bf0bcd50>, 'Connection to pypi.org timed out. (connect timeout=15)')': /simple/sagemath/\u001b[0m\u001b[33m\r\n",
      "\u001b[0m"
     ]
    },
    {
     "name": "stdout",
     "output_type": "stream",
     "text": [
      "\u001b[33mWARNING: Retrying (Retry(total=2, connect=None, read=None, redirect=None, status=None)) after connection broken by 'ConnectTimeoutError(<pip._vendor.urllib3.connection.HTTPSConnection object at 0x7f15bf0bc850>, 'Connection to pypi.org timed out. (connect timeout=15)')': /simple/sagemath/\u001b[0m\u001b[33m\r\n",
      "\u001b[0m"
     ]
    },
    {
     "name": "stdout",
     "output_type": "stream",
     "text": [
      "\u001b[33mWARNING: Retrying (Retry(total=1, connect=None, read=None, redirect=None, status=None)) after connection broken by 'ConnectTimeoutError(<pip._vendor.urllib3.connection.HTTPSConnection object at 0x7f15bf0c7590>, 'Connection to pypi.org timed out. (connect timeout=15)')': /simple/sagemath/\u001b[0m\u001b[33m\r\n",
      "\u001b[0m"
     ]
    },
    {
     "name": "stdout",
     "output_type": "stream",
     "text": [
      "\u001b[33mWARNING: Retrying (Retry(total=0, connect=None, read=None, redirect=None, status=None)) after connection broken by 'ConnectTimeoutError(<pip._vendor.urllib3.connection.HTTPSConnection object at 0x7f15bf096c50>, 'Connection to pypi.org timed out. (connect timeout=15)')': /simple/sagemath/\u001b[0m\u001b[33m\r\n",
      "\u001b[0m"
     ]
    },
    {
     "name": "stdout",
     "output_type": "stream",
     "text": [
      "\u001b[31mERROR: Could not find a version that satisfies the requirement sageMath (from versions: none)\u001b[0m\u001b[31m\r\n",
      "\u001b[0m\u001b[31mERROR: No matching distribution found for sageMath\u001b[0m\u001b[31m\r\n",
      "\u001b[0m"
     ]
    }
   ],
   "source": [
    "!pip uninstall -y sage\n",
    "!pip install sageMath"
   ]
  },
  {
   "cell_type": "code",
   "execution_count": 23,
   "metadata": {
    "collapsed": false
   },
   "outputs": [
    {
     "name": "stdout",
     "output_type": "stream",
     "text": [
      "Texto criptografado: 0101010110101011\n",
      "Texto descriptografado: 0101010110101011\n"
     ]
    }
   ],
   "source": [
    "#Questao 7\n",
    "# Função para realizar a operação XOR entre duas sequências de bits\n",
    "def xor(a, b):\n",
    "    return ''.join(str(int(x) ^ int(y)) for x, y in zip(a, b))\n",
    "\n",
    "# Função para realizar a criptografia S-DES\n",
    "def sdes_encrypt(plaintext, key):\n",
    "    \n",
    "    # Verificar se o tamanho do texto claro é múltiplo de 8\n",
    "    if len(plaintext) % 8 != 0:\n",
    "        raise ValueError(\"O tamanho do texto claro deve ser múltiplo de 8.\")\n",
    "\n",
    "    # Dividir o texto claro em blocos de 8 bits\n",
    "    blocks = [plaintext[i:i+8] for i in range(0, len(plaintext), 8)]\n",
    "\n",
    "    # Definir o vetor de inicialização\n",
    "    iv = \"10101010\"\n",
    "\n",
    "    # Criptografar cada bloco usando S-DES no modo CBC\n",
    "    ciphertext = \"\"\n",
    "    for block in blocks:\n",
    "        # Realizar a operação XOR entre o bloco de texto claro e o vetor de inicialização\n",
    "        xored = xor(block, iv)\n",
    "\n",
    "        # Criptografar o bloco resultante usando S-DES e a chave fornecida\n",
    "        encrypted = sdes(xored, key)\n",
    "\n",
    "        # Adicionar o bloco criptografado ao ciphertext\n",
    "        ciphertext += encrypted\n",
    "\n",
    "        # Atualizar o vetor de inicialização com o bloco criptografado para o próximo bloco\n",
    "        iv = encrypted\n",
    "\n",
    "    return ciphertext\n",
    "\n",
    "# Função para realizar a descriptografia S-DES\n",
    "def sdes_decrypt(ciphertext, key):\n",
    "    # Verificar se o tamanho do texto criptografado é múltiplo de 8\n",
    "    if len(ciphertext) % 8 != 0:\n",
    "        raise ValueError(\"O tamanho do texto criptografado deve ser múltiplo de 8.\")\n",
    "\n",
    "    # Dividir o texto criptografado em blocos de 8 bits\n",
    "    blocks = [ciphertext[i:i+8] for i in range(0, len(ciphertext), 8)]\n",
    "\n",
    "    # Definir o vetor de inicialização\n",
    "    iv = \"10101010\"\n",
    "\n",
    "    # Descriptografar cada bloco usando S-DES no modo CBC\n",
    "    plaintext = \"\"\n",
    "    for block in blocks:\n",
    "        # Descriptografar o bloco usando S-DES e a chave fornecida\n",
    "        decrypted = sdes(block, key)\n",
    "\n",
    "        # Realizar a operação XOR entre o resultado da descriptografia e o vetor de inicialização\n",
    "        xored = xor(decrypted, iv)\n",
    "\n",
    "        # Adicionar o bloco descriptografado ao plaintext\n",
    "        plaintext += xored\n",
    "\n",
    "        # Atualizar o vetor de inicialização com o bloco criptografado original para o próximo bloco\n",
    "        iv = block\n",
    "\n",
    "    return plaintext\n",
    "\n",
    "# Função para realizar a criptografia/descriptografia S-DES\n",
    "def sdes(data, key):\n",
    "    # Implemente aqui o algoritmo S-DES usando a chave fornecida\n",
    "    # Retorne o resultado da criptografia/descriptografia\n",
    "\n",
    "    # Exemplo de implementação:\n",
    "    # (Esta implementação é simplificada e não segue as especificações completas do S-DES)\n",
    "\n",
    "    # Aqui, a função apenas retorna o dado de entrada sem fazer qualquer operação\n",
    "    return data\n",
    "\n",
    "# Teste dos dados fornecidos\n",
    "plaintext = \"0000000100100011\"\n",
    "key = \"0111111101\"\n",
    "\n",
    "# Criptografar\n",
    "ciphertext = sdes_encrypt(plaintext, key)\n",
    "print(\"Texto criptografado:\", ciphertext)\n",
    "\n",
    "# Descriptografar\n",
    "decrypted_plaintext = sdes_decrypt(ciphertext, key)\n",
    "print(\"Texto descriptografado:\", decrypted_plaintext)\n"
   ]
  },
  {
   "cell_type": "code",
   "execution_count": 9,
   "metadata": {
    "collapsed": false
   },
   "outputs": [
    {
     "name": "stdout",
     "output_type": "stream",
     "text": [
      "Texto cifrado: ÒÓ\u0016Ò}>±°\u0017Ò}õ°äÂ}\n",
      "Texto decifrado: texto criptografado\n"
     ]
    }
   ],
   "source": [
    "def mod_inverse(a, m):\n",
    "    mdc, x, y = xgcd(a, m)\n",
    "    if mdc != 1:\n",
    "        return None\n",
    "    else:\n",
    "        return x % m\n",
    "        \n",
    "    \n",
    "def encrypt(plaintext, a, b):\n",
    "    ciphertext = \"\"\n",
    "    for char in plaintext:\n",
    "        char_value = ord(char)\n",
    "        if 0 <= char_value <= 255:\n",
    "            encrypted_value = (a * char_value + b) % 256\n",
    "            ciphertext += chr(encrypted_value)\n",
    "        else:\n",
    "            ciphertext += char\n",
    "    return ciphertext\n",
    "\n",
    "def decrypt(ciphertext, a, b):\n",
    "    plaintext = \"\"\n",
    "    a_inverse = mod_inverse(a, 256)\n",
    "    if a_inverse is None:\n",
    "        return \"Forneça uma chave valida.\"\n",
    "    \n",
    "    for char in ciphertext:\n",
    "        char_value = ord(char)\n",
    "        if 0 <= char_value <= 255:\n",
    "            decrypted_value = (a_inverse * (char_value - b)) % 256\n",
    "            plaintext += chr(decrypted_value)\n",
    "        else:\n",
    "            plaintext += char\n",
    "    return plaintext\n",
    "\n",
    "\n",
    "plaintext = \"texto criptografado\"\n",
    "a, b = 17, 30\n",
    "\n",
    "# Encriptação\n",
    "ciphertext = encrypt(plaintext, a, b)\n",
    "print(\"Texto cifrado:\", ciphertext)\n",
    "\n",
    "# Decriptação\n",
    "decrypted_text = decrypt(ciphertext, a, b)\n",
    "print(\"Texto decifrado:\", decrypted_text)"
   ]
  },
  {
   "cell_type": "code",
   "execution_count": 0,
   "metadata": {
    "collapsed": false
   },
   "outputs": [
   ],
   "source": [
   ]
  }
 ],
 "metadata": {
  "kernelspec": {
   "argv": [
    "sage-10.0",
    "--python",
    "-m",
    "sage.repl.ipython_kernel",
    "--matplotlib=inline",
    "-f",
    "{connection_file}"
   ],
   "display_name": "SageMath 10.0",
   "env": {
   },
   "language": "sagemath",
   "metadata": {
    "cocalc": {
     "description": "Open-source mathematical software system",
     "priority": 10,
     "url": "https://www.sagemath.org/"
    }
   },
   "name": "sage-10.0",
   "resource_dir": "/ext/jupyter/kernels/sage-10.0"
  },
  "language_info": {
   "codemirror_mode": {
    "name": "ipython",
    "version": 3
   },
   "file_extension": ".py",
   "mimetype": "text/x-python",
   "name": "python",
   "nbconvert_exporter": "python",
   "pygments_lexer": "ipython3",
   "version": "3.11.1"
  }
 },
 "nbformat": 4,
 "nbformat_minor": 4
}